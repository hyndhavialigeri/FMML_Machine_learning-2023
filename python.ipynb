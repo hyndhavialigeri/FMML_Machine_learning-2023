{
  "nbformat": 4,
  "nbformat_minor": 0,
  "metadata": {
    "colab": {
      "provenance": [],
      "mount_file_id": "1lkrwoZL06M-vP3_1tTgyENb0w66rayn1",
      "authorship_tag": "ABX9TyNWIBlRRMY+QVEh62YZxYqM",
      "include_colab_link": true
    },
    "kernelspec": {
      "name": "python3",
      "display_name": "Python 3"
    },
    "language_info": {
      "name": "python"
    }
  },
  "cells": [
    {
      "cell_type": "markdown",
      "metadata": {
        "id": "view-in-github",
        "colab_type": "text"
      },
      "source": [
        "<a href=\"https://colab.research.google.com/github/hyndhavialigeri/FMML_Machine_learning-2023/blob/main/python.ipynb\" target=\"_parent\"><img src=\"https://colab.research.google.com/assets/colab-badge.svg\" alt=\"Open In Colab\"/></a>"
      ]
    },
    {
      "cell_type": "code",
      "execution_count": null,
      "metadata": {
        "id": "MIPdXZTuJmfD"
      },
      "outputs": [],
      "source": []
    },
    {
      "cell_type": "markdown",
      "source": [
        "Question 0:\n",
        "write down 3-5 methods applicable to each data type. (Hint: extend, reverse, etc."
      ],
      "metadata": {
        "id": "yDZuM7S5OBN1"
      }
    },
    {
      "cell_type": "code",
      "source": [
        "'List'\n",
        "list=[1, 2, 'A', 'bcd', 'List-example','A']\n",
        "id=list.index(2)\n",
        "c=list.count('A')\n",
        "p=list.pop(5)\n",
        "\n",
        "print(id)\n",
        "print(c)\n",
        "print(p)"
      ],
      "metadata": {
        "colab": {
          "base_uri": "https://localhost:8080/"
        },
        "id": "pab-ngy9OM8z",
        "outputId": "d51dbc12-cfde-40c4-af78-0b769675f169"
      },
      "execution_count": null,
      "outputs": [
        {
          "output_type": "stream",
          "name": "stdout",
          "text": [
            "1\n",
            "2\n",
            "A\n"
          ]
        }
      ]
    },
    {
      "cell_type": "code",
      "source": [
        "'tuples'\n",
        "tuple=(1,3,6,2,7,9)\n",
        "idx=tuple.index(2)\n",
        "maxi=max(tuple)\n",
        "mini=min(tuple)\n",
        "\n",
        "print(maxi)\n",
        "print(mini)\n",
        "print(idx)"
      ],
      "metadata": {
        "colab": {
          "base_uri": "https://localhost:8080/"
        },
        "id": "ietYfTETTHhX",
        "outputId": "6a2cc336-2b3c-41d5-a39c-7fecb1e7cfdf"
      },
      "execution_count": null,
      "outputs": [
        {
          "output_type": "stream",
          "name": "stdout",
          "text": [
            "9\n",
            "1\n",
            "3\n"
          ]
        }
      ]
    },
    {
      "cell_type": "code",
      "source": [
        "'set'\n",
        "set1={1,4,6,8,0}\n",
        "set2={1,3,5,7,9}\n",
        "cop=set1.copy()\n",
        "diff=set1.difference(set2)\n",
        "\n",
        "print(cop)\n",
        "print(diff)\n",
        "set1.discard(0)\n",
        "print(set1)"
      ],
      "metadata": {
        "colab": {
          "base_uri": "https://localhost:8080/"
        },
        "id": "0Al0LTaEVJZN",
        "outputId": "6f4c2a7c-43c9-4ef8-968d-4e0c534f0c6c"
      },
      "execution_count": null,
      "outputs": [
        {
          "output_type": "stream",
          "name": "stdout",
          "text": [
            "{0, 1, 4, 6, 8}\n",
            "{0, 8, 4, 6}\n",
            "{1, 4, 6, 8}\n"
          ]
        }
      ]
    },
    {
      "cell_type": "code",
      "source": [
        "'dictionary'\n",
        "dictionary={'Name1':'Harry', 'Name2':'Ema', 'Name3':'Ron'}\n",
        "print(dictionary.get('Name1'))\n",
        "keys=dictionary.keys()\n",
        "print(keys)\n",
        "val=dictionary.values()\n",
        "print(val)"
      ],
      "metadata": {
        "colab": {
          "base_uri": "https://localhost:8080/"
        },
        "id": "jsncp69SWjV0",
        "outputId": "6d578ed4-85fa-4318-f025-4edd7de6cc1f"
      },
      "execution_count": null,
      "outputs": [
        {
          "output_type": "stream",
          "name": "stdout",
          "text": [
            "Harry\n",
            "dict_keys(['Name1', 'Name2', 'Name3'])\n",
            "dict_values(['Harry', 'Ema', 'Ron'])\n"
          ]
        }
      ]
    },
    {
      "cell_type": "markdown",
      "source": [
        "Question 1 :\n",
        "Define a function, which takes in two strings A and B. Reverses the first string A, adds it to B, and returns the final string."
      ],
      "metadata": {
        "id": "eZ-id4aLmdex"
      }
    },
    {
      "cell_type": "code",
      "source": [
        "def final_string(A,B):\n",
        "  A=A[::-1]\n",
        "  final=A+B\n",
        "  return final\n",
        "ans=final_string('Hyndhavi','Shetty')\n",
        "print(ans)"
      ],
      "metadata": {
        "colab": {
          "base_uri": "https://localhost:8080/"
        },
        "id": "YC28R0EemfK9",
        "outputId": "c5f40e75-3cf8-42ff-8066-a53a311d7d56"
      },
      "execution_count": null,
      "outputs": [
        {
          "output_type": "stream",
          "name": "stdout",
          "text": [
            "ivahdnyHShetty\n"
          ]
        }
      ]
    },
    {
      "cell_type": "markdown",
      "source": [
        "Question 2 :\n",
        "Given a list having Names, work_hours, and gender, Write a function to print name of the female worker that worked the most hours. Also how much do should she be paid if the pay is $ 20 per hour.\n",
        "work_hours = [('Abby',100 , 'F'),('Billy',400, 'M'),('Cassie',800,'F'), ('Maggi',600,'F'),('Alex',500,'M'),('Raj',225,'M'),('Penny',920,'F'),('Ben',300,'M')]\n",
        "Answer : the female worker that worked the most hours is Penny and she should be paid 18400"
      ],
      "metadata": {
        "id": "t3s2GQKvqpkl"
      }
    },
    {
      "cell_type": "code",
      "source": [
        "def find_max_work(work_hrs):\n",
        "  maxi=0\n",
        "  worker_name=None\n",
        "  for name, hours, gender in work_hrs:\n",
        "    if gender=='F' and hours>maxi:\n",
        "      maxi=hours\n",
        "      worker_name=name\n",
        "  return worker_name, maxi\n",
        "work_hrs=[('Abby',100,'F'),('Billy',400,'M'),('Cassie',800,'F'),('Maggi',600,'F'),('Alex',500,'M'),('Raj',225,'M'),('Penny',920,'F'),('Ben',300,'M')]\n",
        "worker_name, maxi=find_max_work(work_hrs)\n",
        "print(\"The female worker that worked the most hours is \",worker_name,\" and should be paid \",(maxi*20))\n"
      ],
      "metadata": {
        "id": "ZYa9yFXjquyD",
        "colab": {
          "base_uri": "https://localhost:8080/"
        },
        "outputId": "c9791eb5-3319-4862-e63e-1ed4a37ee28d"
      },
      "execution_count": 6,
      "outputs": [
        {
          "output_type": "stream",
          "name": "stdout",
          "text": [
            "The female worker that worked the most hours is  Penny  and should be paid  18400\n"
          ]
        }
      ]
    },
    {
      "cell_type": "markdown",
      "source": [
        "Question 3 :\n",
        "a)Create a 5x5 matrix of the following form,\n",
        "[[1,1]\n",
        "[2,2]]\n",
        "i.e. each row is increasing and has repetive elements.\n",
        "Hint : you can use hstack, vstack etc."
      ],
      "metadata": {
        "id": "a9n_EQZTVG_v"
      }
    },
    {
      "cell_type": "code",
      "source": [
        "import numpy as np\n",
        "arr=np.array([1,1,1,1,1,2,2,2,2,2,3,3,3,3,3,4,4,4,4,4,5,5,5,5,5]).reshape(5,5)\n",
        "print(arr)"
      ],
      "metadata": {
        "id": "PLbbpULjVIxu",
        "colab": {
          "base_uri": "https://localhost:8080/"
        },
        "outputId": "94483e35-2d5e-4c9f-b5e3-27548471bdcf"
      },
      "execution_count": 3,
      "outputs": [
        {
          "output_type": "stream",
          "name": "stdout",
          "text": [
            "[[1 1 1 1 1]\n",
            " [2 2 2 2 2]\n",
            " [3 3 3 3 3]\n",
            " [4 4 4 4 4]\n",
            " [5 5 5 5 5]]\n"
          ]
        }
      ]
    },
    {
      "cell_type": "markdown",
      "source": [
        "find dot product of the matrix with any matrix. (Figure out the size/ shape of the matrix)"
      ],
      "metadata": {
        "id": "5Fg14N6Xsz96"
      }
    },
    {
      "cell_type": "code",
      "source": [
        "import numpy as np\n",
        "ar1=np.array([1,2,3])\n",
        "ar2=np.array([4,5,6])\n",
        "result=ar1.dot(ar2)\n",
        "print(result)"
      ],
      "metadata": {
        "colab": {
          "base_uri": "https://localhost:8080/"
        },
        "id": "cWS4ZqMetHU-",
        "outputId": "f1d2c182-f3ff-4cf6-bc96-3a52a9f7afb4"
      },
      "execution_count": 27,
      "outputs": [
        {
          "output_type": "stream",
          "name": "stdout",
          "text": [
            "32\n"
          ]
        }
      ]
    }
  ]
}